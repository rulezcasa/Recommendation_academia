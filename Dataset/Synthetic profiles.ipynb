{
 "cells": [
  {
   "cell_type": "code",
   "execution_count": null,
   "id": "31d81af9",
   "metadata": {},
   "outputs": [],
   "source": [
    "from faker import Faker\n",
    "import random\n",
    "import pandas as pd"
   ]
  },
  {
   "cell_type": "code",
   "execution_count": null,
   "id": "98c3f35e",
   "metadata": {},
   "outputs": [],
   "source": [
    "fake = Faker()"
   ]
  },
  {
   "cell_type": "code",
   "execution_count": null,
   "id": "b87dbfbf",
   "metadata": {},
   "outputs": [],
   "source": [
    "names = [fake.name() for _ in range(100)]"
   ]
  },
  {
   "cell_type": "markdown",
   "id": "45134ee8",
   "metadata": {},
   "source": [
    "## Extracting skills from existing data "
   ]
  },
  {
   "cell_type": "code",
   "execution_count": null,
   "id": "41453df1",
   "metadata": {},
   "outputs": [],
   "source": [
    "existing_skills=pd.read_csv('skills.csv')"
   ]
  },
  {
   "cell_type": "code",
   "execution_count": null,
   "id": "5d4f5db3",
   "metadata": {},
   "outputs": [],
   "source": [
    "existing_skills.drop(columns=['_id'], inplace=True)"
   ]
  },
  {
   "cell_type": "code",
   "execution_count": null,
   "id": "e2ad3eeb",
   "metadata": {},
   "outputs": [],
   "source": [
    "existing_skills_list=existing_skills['Skills'].tolist()"
   ]
  },
  {
   "cell_type": "markdown",
   "id": "8ec97f7c",
   "metadata": {},
   "source": [
    "## Extracting Topic from existing data "
   ]
  },
  {
   "cell_type": "code",
   "execution_count": null,
   "id": "f9b14d64",
   "metadata": {},
   "outputs": [],
   "source": [
    "existing_topic=pd.read_csv('topic.csv')"
   ]
  },
  {
   "cell_type": "code",
   "execution_count": null,
   "id": "9c1a4189",
   "metadata": {},
   "outputs": [],
   "source": [
    "existing_topic.drop(columns=['_id'], inplace=True)"
   ]
  },
  {
   "cell_type": "code",
   "execution_count": null,
   "id": "bd5f0261",
   "metadata": {},
   "outputs": [],
   "source": [
    "existing_topic_list=existing_topic['Topic'].tolist()"
   ]
  },
  {
   "cell_type": "markdown",
   "id": "a553709e",
   "metadata": {},
   "source": [
    "## Extracting interests from existing data "
   ]
  },
  {
   "cell_type": "code",
   "execution_count": null,
   "id": "ea255e3e",
   "metadata": {},
   "outputs": [],
   "source": [
    "# Pools of data elements\n",
    "names = [fake.name() for _ in range(500)]\n",
    "skills = [\n",
    "    \"Python\", \"Data Analysis\", \"Machine Learning\", \"Web Development\", \"Database Management\",\n",
    "    \"Cloud Computing\", \"DevOps\", \"Blockchain\", \"UI/UX Design\", \"Networking\", \"Cybersecurity\",\n",
    "    \"Natural Language Processing\", \"Computer Vision\", \"Embedded Systems\", \"Robotics\", \"Data Mining\",\n",
    "    \"Big Data\", \"Game Development\", \"Mobile Development\", \"Quantum Computing\", \"Virtual Reality\",\n",
    "    \"Augmented Reality\", \"Business Intelligence\", \"ETL Processes\", \"Data Warehousing\", \"IoT\",\n",
    "    \"Software Testing\", \"System Administration\", \"Agile Methodologies\", \"Project Management\",\n",
    "    \"Java\", \"C++\", \"SQL\", \"JavaScript\", \"HTML\", \"CSS\", \"R\", \"MATLAB\", \"Excel\",    \"AI\", \"Data Science\", \"Cybersecurity\", \"Bioinformatics\", \"Software Engineering\",\n",
    "    \"Quantum Computing\", \"Human-Computer Interaction\", \"Game Theory\", \"Complex Systems\", \"Cognitive Science\",\n",
    "    \"Digital Humanities\", \"Environmental Informatics\", \"Geospatial Analysis\", \"Health Informatics\", \"Educational Technology\",\n",
    "    \"Social Network Analysis\", \"Sustainable Computing\", \"Computational Biology\", \"Information Retrieval\", \"Multimedia Computing\",\n",
    "    \"Pattern Recognition\", \"Distributed Systems\", \"Wireless Networks\", \"Parallel Computing\", \"Scientific Computing\",\n",
    "    \"Software Architecture\", \"Theoretical Computer Science\", \"Computational Neuroscience\", \"E-commerce Technology\",\n",
    "    \"Machine Learning\", \"Computer Networks\", \"Databases\", \"Operating Systems\", \"Algorithms\"\n",
    "]\n",
    "\n",
    "skills = skills + existing_skills_list\n",
    "\n",
    "Topic = [\n",
    "    \"AI\", \"Data Science\", \"Cybersecurity\", \"Bioinformatics\", \"Software Engineering\",\n",
    "    \"Quantum Computing\", \"Human-Computer Interaction\", \"Game Theory\", \"Complex Systems\", \"Cognitive Science\",\n",
    "    \"Digital Humanities\", \"Environmental Informatics\", \"Geospatial Analysis\", \"Health Informatics\", \"Educational Technology\",\n",
    "    \"Social Network Analysis\", \"Sustainable Computing\", \"Computational Biology\", \"Information Retrieval\", \"Multimedia Computing\",\n",
    "    \"Pattern Recognition\", \"Distributed Systems\", \"Wireless Networks\", \"Parallel Computing\", \"Scientific Computing\",\n",
    "    \"Software Architecture\", \"Theoretical Computer Science\", \"Computational Neuroscience\", \"E-commerce Technology\",\n",
    "    \"Machine Learning\", \"Computer Networks\", \"Databases\", \"Operating Systems\", \"Algorithms\",\"Python\", \"Data Analysis\", \"Machine Learning\", \"Web Development\", \"Database Management\",\n",
    "    \"Cloud Computing\", \"DevOps\", \"Blockchain\", \"UI/UX Design\", \"Networking\", \"Cybersecurity\",\n",
    "    \"Natural Language Processing\", \"Computer Vision\", \"Embedded Systems\", \"Robotics\", \"Data Mining\",\n",
    "    \"Big Data\", \"Game Development\", \"Mobile Development\", \"Quantum Computing\", \"Virtual Reality\",\n",
    "    \"Augmented Reality\", \"Business Intelligence\", \"ETL Processes\", \"Data Warehousing\", \"IoT\",\n",
    "    \"Software Testing\", \"System Administration\", \"Agile Methodologies\", \"Project Management\",\n",
    "    \"Java\", \"C++\", \"SQL\", \"JavaScript\", \"HTML\", \"CSS\", \"R\", \"MATLAB\", \"Excel\"\n",
    "]\n",
    "\n",
    "Topic = Topic + existing_topic_list\n",
    "\n",
    "\n",
    "collaborators = [\"Faculty\", \"Student\", \"Researcher\"]\n",
    "profession=[\"Faculty\",\"Student\",\"Researcher\"]\n",
    "interest=[\"Projects\",\"Study groups\",\"Research\"]"
   ]
  },
  {
   "cell_type": "code",
   "execution_count": null,
   "id": "3a05f159",
   "metadata": {},
   "outputs": [],
   "source": [
    "# Function to generate a synthetic profile\n",
    "def generate_profile():\n",
    "    name = random.choice(names)\n",
    "    # Generate email from name\n",
    "    first_name = name.split()[0].lower()\n",
    "    last_name = name.split()[-1].lower()\n",
    "    domain = random.choice([\"example.com\", \"university.edu\", \"research.org\"])\n",
    "    email = f\"{first_name}.{last_name}@{domain}\"\n",
    "    return {\n",
    "        \"Name\": name,\n",
    "        \"Email\": email,\n",
    "        \"profession\" : random.choice(profession),\n",
    "        \"Skillset\": random.choice(skills),\n",
    "        \"interest\": random.choice(interest),\n",
    "        \"Collaborator Preference\": random.choice(collaborators),\n",
    "        \"Topic\" : random.choice(Topic),\n",
    "        \"Skills\" : random.choice(skills)\n",
    "    }"
   ]
  },
  {
   "cell_type": "code",
   "execution_count": null,
   "id": "5c8a6e0b",
   "metadata": {},
   "outputs": [],
   "source": [
    "# Generate synthetic profiles\n",
    "synthetic_profiles = [generate_profile() for _ in range(500)]\n",
    "\n",
    "# Create a pandas DataFrame\n",
    "df = pd.DataFrame(synthetic_profiles)\n",
    "\n",
    "# Display the dataset\n",
    "print(df)"
   ]
  },
  {
   "cell_type": "code",
   "execution_count": null,
   "id": "56baaac1",
   "metadata": {},
   "outputs": [],
   "source": [
    "df.to_csv('synthetic.csv', index=False)"
   ]
  },
  {
   "cell_type": "code",
   "execution_count": null,
   "id": "1f38fb86",
   "metadata": {},
   "outputs": [],
   "source": [
    "synth=pd.read_csv('synthetic.csv')"
   ]
  },
  {
   "cell_type": "code",
   "execution_count": null,
   "id": "e22fa3d9",
   "metadata": {},
   "outputs": [],
   "source": [
    "synth"
   ]
  },
  {
   "cell_type": "code",
   "execution_count": null,
   "id": "aa98d63d",
   "metadata": {},
   "outputs": [],
   "source": []
  }
 ],
 "metadata": {
  "kernelspec": {
   "display_name": "Python 3 (ipykernel)",
   "language": "python",
   "name": "python3"
  },
  "language_info": {
   "codemirror_mode": {
    "name": "ipython",
    "version": 3
   },
   "file_extension": ".py",
   "mimetype": "text/x-python",
   "name": "python",
   "nbconvert_exporter": "python",
   "pygments_lexer": "ipython3",
   "version": "3.10.1"
  }
 },
 "nbformat": 4,
 "nbformat_minor": 5
}
